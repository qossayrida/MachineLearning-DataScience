{
 "cells": [
  {
   "cell_type": "code",
   "execution_count": 19,
   "id": "initial_id",
   "metadata": {
    "collapsed": true,
    "ExecuteTime": {
     "end_time": "2024-11-18T06:50:14.484741562Z",
     "start_time": "2024-11-18T06:50:14.442598917Z"
    }
   },
   "outputs": [
    {
     "name": "stdout",
     "output_type": "stream",
     "text": [
      "<class 'pandas.core.frame.DataFrame'>\n",
      "RangeIndex: 4979 entries, 0 to 4978\n",
      "Data columns (total 9 columns):\n",
      " #   Column           Non-Null Count  Dtype  \n",
      "---  ------           --------------  -----  \n",
      " 0   car name         4979 non-null   object \n",
      " 1   engine_capacity  4979 non-null   float64\n",
      " 2   cylinder         4979 non-null   int64  \n",
      " 3   horse_power      4979 non-null   int64  \n",
      " 4   top_speed        4979 non-null   int64  \n",
      " 5   brand            4979 non-null   object \n",
      " 6   country          4979 non-null   object \n",
      " 7   num_seats        4979 non-null   int64  \n",
      " 8   Price_USD        4979 non-null   float64\n",
      "dtypes: float64(2), int64(4), object(3)\n",
      "memory usage: 350.2+ KB\n"
     ]
    }
   ],
   "source": [
    "import pandas as pd\n",
    "\n",
    "# Load the dataset\n",
    "df = pd.read_csv('data/processed_cars_data.csv')\n",
    "df.info()"
   ]
  },
  {
   "cell_type": "code",
   "execution_count": 20,
   "outputs": [
    {
     "name": "stdout",
     "output_type": "stream",
     "text": [
      "<class 'pandas.core.frame.DataFrame'>\n",
      "RangeIndex: 4979 entries, 0 to 4978\n",
      "Data columns (total 5 columns):\n",
      " #   Column           Non-Null Count  Dtype  \n",
      "---  ------           --------------  -----  \n",
      " 0   engine_capacity  4979 non-null   float64\n",
      " 1   cylinder         4979 non-null   int64  \n",
      " 2   horse_power      4979 non-null   int64  \n",
      " 3   top_speed        4979 non-null   int64  \n",
      " 4   num_seats        4979 non-null   int64  \n",
      "dtypes: float64(1), int64(4)\n",
      "memory usage: 194.6 KB\n"
     ]
    }
   ],
   "source": [
    "from sklearn.model_selection import train_test_split\n",
    "from sklearn.preprocessing import StandardScaler\n",
    "import numpy as np\n",
    "\n",
    "# Assuming df is your DataFrame\n",
    "X = df.drop(columns=[\"Price_USD\", \"car name\",'brand', 'country'])  # Drop 'Price_USD' (target) and 'car name' (irrelevant feature)\n",
    "y = df[\"Price_USD\"]\n",
    "\n",
    "# # One-hot encode categorical features (brand, country)\n",
    "# X = pd.get_dummies(X, columns=[], drop_first=True)\n",
    "# X = X.astype(np.float64)\n",
    "\n",
    "# Splitting the dataset into training (60%), validation (20%), and test (20%) sets\n",
    "X_temp, X_test, y_temp, y_test = train_test_split(X, y, test_size=0.2, random_state=42)\n",
    "X_train, X_val, y_train, y_val = train_test_split(X_temp, y_temp, test_size=0.25, random_state=42)  # 0.25 * 0.8 = 0.2\n",
    "\n",
    "# Standardize features\n",
    "scaler = StandardScaler()\n",
    "X_train_scaled = scaler.fit_transform(X_train)\n",
    "X_val_scaled = scaler.transform(X_val)\n",
    "X_test_scaled = scaler.transform(X_test)\n",
    "\n",
    "# Add bias column to scaled datasets\n",
    "X_train_b = np.c_[np.ones((X_train_scaled.shape[0], 1)), X_train_scaled]\n",
    "X_val_b = np.c_[np.ones((X_val_scaled.shape[0], 1)), X_val_scaled]\n",
    "X_test_b = np.c_[np.ones((X_test_scaled.shape[0], 1)), X_test_scaled]\n",
    "\n",
    "X.info()\n"
   ],
   "metadata": {
    "collapsed": false,
    "ExecuteTime": {
     "end_time": "2024-11-18T06:50:14.493464985Z",
     "start_time": "2024-11-18T06:50:14.483697910Z"
    }
   },
   "id": "3a561df254a3c68b"
  },
  {
   "cell_type": "code",
   "execution_count": 21,
   "outputs": [
    {
     "name": "stdout",
     "output_type": "stream",
     "text": [
      "Gradient Descent - Validation RMSE: 82078.1796628439\n",
      "Coefficients (Gradient Descent): [ 7.12590700e+04 -5.89216503e+01  1.16963734e+04  4.77025659e+04\n",
      "  1.55275470e+04 -3.05710801e+03]\n",
      "Closed-form solution - Validation RMSE: 82983.76808253591\n",
      "Coefficients (Closed-form): [71262.14649146   -72.98585132  9613.45568639 50250.67310241\n",
      " 14856.60315043 -2976.84142149]\n"
     ]
    }
   ],
   "source": [
    "# Closed-form solution & Gradient Descent With comparison between the two methods \n",
    "\n",
    "try:\n",
    "    ##############################\n",
    "    #### Run gradient descent ####\n",
    "    ##############################\n",
    "\n",
    "    theta_best_descent = np.zeros(X_train_b.shape[1])  # Includes bias term  \n",
    "    # Gradient Descent Implementation\n",
    "    learning_rate = 0.01\n",
    "    epochs = 1000\n",
    "    m = X_train_b.shape[0]  # Number of samples in training set\n",
    "    \n",
    "    for epoch in range(epochs):\n",
    "        gradients = (1 / m) * X_train_b.T @ (X_train_b @ theta_best_descent - y_train)  # Compute gradients\n",
    "        theta_best_descent -= learning_rate * gradients  # Update theta\n",
    "    \n",
    "    # Predictions on validation set\n",
    "    y_val_pred_gd = X_val_b @ theta_best_descent\n",
    "    rmse_gd = np.sqrt(np.mean((y_val - y_val_pred_gd) ** 2))\n",
    "    \n",
    "    print(\"Gradient Descent - Validation RMSE:\", rmse_gd)\n",
    "    print(\"Coefficients (Gradient Descent):\", theta_best_descent)\n",
    "    \n",
    "    ##############################\n",
    "    #### Closed-form solution ####\n",
    "    ##############################\n",
    "    theta_best_closed = np.linalg.inv(X_train_b.T @ X_train_b) @ X_train_b.T @ y_train\n",
    "    y_val_pred_closed = X_val_b @ theta_best_closed\n",
    "    rmse_closed = np.sqrt(np.mean((y_val - y_val_pred_closed) ** 2))\n",
    "    print(\"Closed-form solution - Validation RMSE:\", rmse_closed)\n",
    "    print(\"Coefficients (Closed-form):\", theta_best_closed)\n",
    "except np.linalg.LinAlgError:\n",
    "    print(\"Error: Singular matrix. Unable to compute the closed-form solution.\")\n"
   ],
   "metadata": {
    "collapsed": false,
    "ExecuteTime": {
     "end_time": "2024-11-18T06:50:14.552606905Z",
     "start_time": "2024-11-18T06:50:14.483992129Z"
    }
   },
   "id": "6219790e81045bfa"
  },
  {
   "cell_type": "code",
   "execution_count": 22,
   "outputs": [
    {
     "name": "stdout",
     "output_type": "stream",
     "text": [
      "Best LASSO RMSE: 82970.775, R²: 0.339\n",
      "Best Ridge RMSE: 81706.882, R²: 0.359\n",
      "LASSO Coefficients: [   -0.          9554.38939557 50231.92653826 14823.27287075\n",
      " -2900.2790271 ]\n",
      "Ridge Coefficients: [  -59.7163599  11570.24263223 46837.48222636 15380.19623224\n",
      " -3190.66651936]\n",
      "LASSO Test RMSE: 129491.331\n",
      "Ridge Test RMSE: 129004.785\n"
     ]
    }
   ],
   "source": [
    "# LASSO and Ridge Regression with hyperparameter tuning and evaluation\n",
    "\n",
    "from sklearn.linear_model import Lasso, Ridge\n",
    "from sklearn.model_selection import GridSearchCV\n",
    "from sklearn.metrics import mean_squared_error , r2_score\n",
    "\n",
    "# Define hyperparameter grids\n",
    "# Hyperparameter grid\n",
    "alpha_values = {'alpha': [0.001, 0.01, 0.1, 1, 10, 100]}\n",
    "\n",
    "# LASSO Regression\n",
    "lasso = Lasso(max_iter=10000)\n",
    "lasso_grid = GridSearchCV(lasso, alpha_values, cv=5, scoring='neg_mean_squared_error')\n",
    "lasso_grid.fit(X_train_scaled, y_train)\n",
    "best_lasso = lasso_grid.best_estimator_\n",
    "\n",
    "# Ridge Regression\n",
    "ridge = Ridge()\n",
    "ridge_grid = GridSearchCV(ridge, alpha_values, cv=5, scoring='neg_mean_squared_error')\n",
    "ridge_grid.fit(X_train_scaled, y_train)\n",
    "best_ridge = ridge_grid.best_estimator_\n",
    "\n",
    "# Validation Metrics\n",
    "lasso_val_pred = best_lasso.predict(X_val_scaled)\n",
    "ridge_val_pred = best_ridge.predict(X_val_scaled)\n",
    "\n",
    "lasso_rmse = np.sqrt(mean_squared_error(y_val, lasso_val_pred))\n",
    "ridge_rmse = np.sqrt(mean_squared_error(y_val, ridge_val_pred))\n",
    "\n",
    "lasso_r2 = r2_score(y_val, lasso_val_pred)\n",
    "ridge_r2 = r2_score(y_val, ridge_val_pred)\n",
    "\n",
    "print(f\"Best LASSO RMSE: {lasso_rmse:.3f}, R²: {lasso_r2:.3f}\")\n",
    "print(f\"Best Ridge RMSE: {ridge_rmse:.3f}, R²: {ridge_r2:.3f}\")\n",
    "\n",
    "print(\"LASSO Coefficients:\", best_lasso.coef_)\n",
    "print(\"Ridge Coefficients:\", best_ridge.coef_)\n",
    "\n",
    "# Test Set Evaluation\n",
    "lasso_test_pred = best_lasso.predict(X_test_scaled)\n",
    "ridge_test_pred = best_ridge.predict(X_test_scaled)\n",
    "\n",
    "lasso_test_rmse = np.sqrt(mean_squared_error(y_test, lasso_test_pred))\n",
    "ridge_test_rmse = np.sqrt(mean_squared_error(y_test, ridge_test_pred))\n",
    "\n",
    "print(f\"LASSO Test RMSE: {lasso_test_rmse:.3f}\")\n",
    "print(f\"Ridge Test RMSE: {ridge_test_rmse:.3f}\")"
   ],
   "metadata": {
    "collapsed": false,
    "ExecuteTime": {
     "end_time": "2024-11-18T06:50:14.631225939Z",
     "start_time": "2024-11-18T06:50:14.555444652Z"
    }
   },
   "id": "c10704a95e243285"
  },
  {
   "cell_type": "code",
   "execution_count": 23,
   "outputs": [
    {
     "name": "stdout",
     "output_type": "stream",
     "text": [
      "Polynomial Regression Results:\n",
      "Degree 2: RMSE = 369793.868\n",
      "Degree 3: RMSE = 2817036.256\n",
      "Degree 4: RMSE = 262713562.080\n",
      "Degree 5: RMSE = 16013607532.955\n",
      "Degree 6: RMSE = 200846154113.995\n",
      "Degree 7: RMSE = 29182600557197.824\n",
      "Degree 8: RMSE = 839234041879579.625\n",
      "Degree 9: RMSE = 5810729733003874.000\n",
      "Degree 10: RMSE = 5479992590121407.000\n",
      "\n",
      "RBF Kernel Regression Results:\n",
      "Best RBF RMSE on Validation Set: 94252.581\n"
     ]
    }
   ],
   "source": [
    "# Polynomial Regression and Radial Basis Function (RBF) Kernel Regression\n",
    "\n",
    "from sklearn.preprocessing import PolynomialFeatures\n",
    "from sklearn.linear_model import LinearRegression\n",
    "from sklearn.svm import SVR\n",
    "\n",
    "\n",
    "# Polynomial Regression: Varying the polynomial degree\n",
    "print(\"Polynomial Regression Results:\")\n",
    "for degree in range(2, 11):  # Degrees from 2 to 10 inclusive\n",
    "    poly = PolynomialFeatures(degree)\n",
    "    X_train_poly = poly.fit_transform(X_train_scaled)\n",
    "    X_val_poly = poly.transform(X_val_scaled)\n",
    "    \n",
    "    lin_reg = LinearRegression()\n",
    "    lin_reg.fit(X_train_poly, y_train)\n",
    "    \n",
    "    y_val_pred = lin_reg.predict(X_val_poly)\n",
    "    rmse_poly = np.sqrt(mean_squared_error(y_val, y_val_pred))\n",
    "    print(f\"Degree {degree}: RMSE = {rmse_poly:.3f}\")\n",
    "\n",
    "# Radial Basis Function (RBF) Kernel Regression\n",
    "print(\"\\nRBF Kernel Regression Results:\")\n",
    "# Define hyperparameter grid for SVR\n",
    "from sklearn.model_selection import GridSearchCV\n",
    "\n",
    "rbf_svr = SVR(kernel='rbf')\n",
    "param_grid = {'C': [0.1, 1, 10, 100], 'gamma': [0.01, 0.1, 1, 10]}\n",
    "\n",
    "grid_search = GridSearchCV(rbf_svr, param_grid, cv=5, scoring='neg_mean_squared_error')\n",
    "grid_search.fit(X_train_scaled, y_train)\n",
    "\n",
    "best_rbf_model = grid_search.best_estimator_\n",
    "\n",
    "# Evaluate RBF on validation set\n",
    "y_val_pred_rbf = best_rbf_model.predict(X_val_scaled)\n",
    "rmse_rbf = np.sqrt(mean_squared_error(y_val, y_val_pred_rbf))\n",
    "print(f\"Best RBF RMSE on Validation Set: {rmse_rbf:.3f}\")\n"
   ],
   "metadata": {
    "collapsed": false,
    "ExecuteTime": {
     "end_time": "2024-11-18T06:50:45.837828810Z",
     "start_time": "2024-11-18T06:50:14.632242562Z"
    }
   },
   "id": "41835691b05a1373"
  }
 ],
 "metadata": {
  "kernelspec": {
   "display_name": "Python 3",
   "language": "python",
   "name": "python3"
  },
  "language_info": {
   "codemirror_mode": {
    "name": "ipython",
    "version": 2
   },
   "file_extension": ".py",
   "mimetype": "text/x-python",
   "name": "python",
   "nbconvert_exporter": "python",
   "pygments_lexer": "ipython2",
   "version": "2.7.6"
  }
 },
 "nbformat": 4,
 "nbformat_minor": 5
}
