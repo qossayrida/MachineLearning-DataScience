{
 "cells": [
  {
   "cell_type": "code",
   "execution_count": 74,
   "id": "initial_id",
   "metadata": {
    "collapsed": true,
    "ExecuteTime": {
     "end_time": "2024-11-18T06:00:23.202545349Z",
     "start_time": "2024-11-18T06:00:23.159596195Z"
    }
   },
   "outputs": [
    {
     "name": "stdout",
     "output_type": "stream",
     "text": [
      "<class 'pandas.core.frame.DataFrame'>\n",
      "RangeIndex: 4979 entries, 0 to 4978\n",
      "Data columns (total 9 columns):\n",
      " #   Column           Non-Null Count  Dtype  \n",
      "---  ------           --------------  -----  \n",
      " 0   car name         4979 non-null   object \n",
      " 1   engine_capacity  4979 non-null   float64\n",
      " 2   cylinder         4979 non-null   int64  \n",
      " 3   horse_power      4979 non-null   int64  \n",
      " 4   top_speed        4979 non-null   int64  \n",
      " 5   brand            4979 non-null   object \n",
      " 6   country          4979 non-null   object \n",
      " 7   num_seats        4979 non-null   int64  \n",
      " 8   Price_USD        4979 non-null   float64\n",
      "dtypes: float64(2), int64(4), object(3)\n",
      "memory usage: 350.2+ KB\n"
     ]
    }
   ],
   "source": [
    "import pandas as pd\n",
    "\n",
    "# Load the dataset\n",
    "df = pd.read_csv('data/processed_cars_data.csv')\n",
    "df.info()"
   ]
  },
  {
   "cell_type": "code",
   "execution_count": 75,
   "outputs": [
    {
     "name": "stdout",
     "output_type": "stream",
     "text": [
      "<class 'pandas.core.frame.DataFrame'>\n",
      "RangeIndex: 4979 entries, 0 to 4978\n",
      "Data columns (total 5 columns):\n",
      " #   Column           Non-Null Count  Dtype  \n",
      "---  ------           --------------  -----  \n",
      " 0   engine_capacity  4979 non-null   float64\n",
      " 1   cylinder         4979 non-null   int64  \n",
      " 2   horse_power      4979 non-null   int64  \n",
      " 3   top_speed        4979 non-null   int64  \n",
      " 4   num_seats        4979 non-null   int64  \n",
      "dtypes: float64(1), int64(4)\n",
      "memory usage: 194.6 KB\n"
     ]
    }
   ],
   "source": [
    "from sklearn.model_selection import train_test_split\n",
    "from sklearn.preprocessing import StandardScaler\n",
    "import numpy as np\n",
    "\n",
    "# Assuming df is your DataFrame\n",
    "X = df.drop(columns=[\"Price_USD\", \"car name\",'brand', 'country'])  # Drop 'Price_USD' (target) and 'car name' (irrelevant feature)\n",
    "y = df[\"Price_USD\"]\n",
    "\n",
    "# One-hot encode categorical features (brand, country)\n",
    "# X = pd.get_dummies(X, columns=[], drop_first=True)\n",
    "# X = X.astype(np.float64)\n",
    "\n",
    "# Splitting the dataset into training (60%), validation (20%), and test (20%) sets\n",
    "X_temp, X_test, y_temp, y_test = train_test_split(X, y, test_size=0.2, random_state=42)\n",
    "X_train, X_val, y_train, y_val = train_test_split(X_temp, y_temp, test_size=0.25, random_state=42)  # 0.25 * 0.8 = 0.2\n",
    "\n",
    "# Standardize features\n",
    "scaler = StandardScaler()\n",
    "X_train_scaled = scaler.fit_transform(X_train)\n",
    "X_val_scaled = scaler.transform(X_val)\n",
    "X_test_scaled = scaler.transform(X_test)\n",
    "\n",
    "# Add bias column to scaled datasets\n",
    "X_train_b = np.c_[np.ones((X_train_scaled.shape[0], 1)), X_train_scaled]\n",
    "X_val_b = np.c_[np.ones((X_val_scaled.shape[0], 1)), X_val_scaled]\n",
    "X_test_b = np.c_[np.ones((X_test_scaled.shape[0], 1)), X_test_scaled]\n",
    "\n",
    "X.info()\n"
   ],
   "metadata": {
    "collapsed": false,
    "ExecuteTime": {
     "end_time": "2024-11-18T06:00:23.202998007Z",
     "start_time": "2024-11-18T06:00:23.201652944Z"
    }
   },
   "id": "3a561df254a3c68b"
  },
  {
   "cell_type": "code",
   "execution_count": 76,
   "outputs": [
    {
     "name": "stdout",
     "output_type": "stream",
     "text": [
      "Gradient Descent - Validation RMSE: 82078.1796628439\n",
      "Coefficients (Gradient Descent): [ 7.12590700e+04 -5.89216503e+01  1.16963734e+04  4.77025659e+04\n",
      "  1.55275470e+04 -3.05710801e+03]\n",
      "Closed-form solution - Validation RMSE: 82983.76808253591\n",
      "Coefficients (Closed-form): [71262.14649146   -72.98585132  9613.45568639 50250.67310241\n",
      " 14856.60315043 -2976.84142149]\n"
     ]
    }
   ],
   "source": [
    "# Closed-form solution & Gradient Descent With comparison between the two methods \n",
    "\n",
    "try:\n",
    "    ##############################\n",
    "    #### Run gradient descent ####\n",
    "    ##############################\n",
    "\n",
    "    theta_best_descent = np.zeros(X_train_b.shape[1])  # Includes bias term  \n",
    "    # Gradient Descent Implementation\n",
    "    learning_rate = 0.01\n",
    "    epochs = 1000\n",
    "    m = X_train_b.shape[0]  # Number of samples in training set\n",
    "    \n",
    "    for epoch in range(epochs):\n",
    "        gradients = (1 / m) * X_train_b.T @ (X_train_b @ theta_best_descent - y_train)  # Compute gradients\n",
    "        theta_best_descent -= learning_rate * gradients  # Update theta\n",
    "    \n",
    "    # Predictions on validation set\n",
    "    y_val_pred_gd = X_val_b @ theta_best_descent\n",
    "    rmse_gd = np.sqrt(np.mean((y_val - y_val_pred_gd) ** 2))\n",
    "    \n",
    "    print(\"Gradient Descent - Validation RMSE:\", rmse_gd)\n",
    "    print(\"Coefficients (Gradient Descent):\", theta_best_descent)\n",
    "    \n",
    "    ##############################\n",
    "    #### Closed-form solution ####\n",
    "    ##############################\n",
    "    theta_best_closed = np.linalg.inv(X_train_b.T @ X_train_b) @ X_train_b.T @ y_train\n",
    "    y_val_pred_closed = X_val_b @ theta_best_closed\n",
    "    rmse_closed = np.sqrt(np.mean((y_val - y_val_pred_closed) ** 2))\n",
    "    print(\"Closed-form solution - Validation RMSE:\", rmse_closed)\n",
    "    print(\"Coefficients (Closed-form):\", theta_best_closed)\n",
    "except np.linalg.LinAlgError:\n",
    "    print(\"Error: Singular matrix. Unable to compute the closed-form solution.\")\n"
   ],
   "metadata": {
    "collapsed": false,
    "ExecuteTime": {
     "end_time": "2024-11-18T06:00:23.297082093Z",
     "start_time": "2024-11-18T06:00:23.201814130Z"
    }
   },
   "id": "6219790e81045bfa"
  },
  {
   "cell_type": "code",
   "execution_count": 77,
   "outputs": [
    {
     "name": "stdout",
     "output_type": "stream",
     "text": [
      "Best LASSO RMSE: 83021.41042819904\n",
      "Best Ridge RMSE: 83043.13777287723\n"
     ]
    }
   ],
   "source": [
    "# LASSO and Ridge Regression\n",
    "from sklearn.linear_model import Lasso, Ridge\n",
    "from sklearn.model_selection import GridSearchCV\n",
    "from sklearn.metrics import mean_squared_error\n",
    "\n",
    "# Define hyperparameter grids\n",
    "alpha_values = {'alpha': [0.001, 0.01, 0.1, 1, 10, 100]}\n",
    "\n",
    "# LASSO Regression\n",
    "lasso = Lasso(max_iter=10000)\n",
    "lasso_grid = GridSearchCV(lasso, alpha_values, cv=5, scoring='neg_mean_squared_error')\n",
    "lasso_grid.fit(X_train, y_train)\n",
    "best_lasso = lasso_grid.best_estimator_\n",
    "\n",
    "# Ridge Regression\n",
    "ridge = Ridge()\n",
    "ridge_grid = GridSearchCV(ridge, alpha_values, cv=5, scoring='neg_mean_squared_error')\n",
    "ridge_grid.fit(X_train, y_train)\n",
    "best_ridge = ridge_grid.best_estimator_\n",
    "\n",
    "# Evaluate\n",
    "lasso_rmse = np.sqrt(mean_squared_error(y_val, best_lasso.predict(X_val)))\n",
    "ridge_rmse = np.sqrt(mean_squared_error(y_val, best_ridge.predict(X_val)))\n",
    "\n",
    "print(\"Best LASSO RMSE:\", lasso_rmse)\n",
    "print(\"Best Ridge RMSE:\", ridge_rmse)\n"
   ],
   "metadata": {
    "collapsed": false,
    "ExecuteTime": {
     "end_time": "2024-11-18T06:00:23.502008428Z",
     "start_time": "2024-11-18T06:00:23.299270247Z"
    }
   },
   "id": "c10704a95e243285"
  },
  {
   "cell_type": "code",
   "execution_count": 78,
   "outputs": [
    {
     "name": "stdout",
     "output_type": "stream",
     "text": [
      "Degree 2: RMSE = 369793.86826556915\n",
      "Degree 3: RMSE = 2817036.2836314747\n",
      "Degree 4: RMSE = 263663956.23629493\n",
      "Degree 5: RMSE = 15183008311.954758\n",
      "Degree 6: RMSE = 345008597172.33124\n",
      "Degree 7: RMSE = 5052708079739.828\n",
      "Degree 8: RMSE = 88082607577091.47\n",
      "Degree 9: RMSE = 2180551429222975.8\n",
      "Degree 10: RMSE = 1.0985579416446034e+16\n"
     ]
    }
   ],
   "source": [
    "from sklearn.preprocessing import PolynomialFeatures\n",
    "from sklearn.linear_model import LinearRegression\n",
    "\n",
    "for degree in range(2, 11):\n",
    "    poly = PolynomialFeatures(degree)\n",
    "    X_train_poly = poly.fit_transform(X_train)\n",
    "    X_val_poly = poly.transform(X_val)\n",
    "    \n",
    "    lin_reg = LinearRegression()\n",
    "    lin_reg.fit(X_train_poly, y_train)\n",
    "    \n",
    "    y_val_pred = lin_reg.predict(X_val_poly)\n",
    "    rmse_poly = np.sqrt(mean_squared_error(y_val, y_val_pred))\n",
    "    print(f\"Degree {degree}: RMSE = {rmse_poly}\")"
   ],
   "metadata": {
    "collapsed": false,
    "ExecuteTime": {
     "end_time": "2024-11-18T06:00:44.536676345Z",
     "start_time": "2024-11-18T06:00:23.504771281Z"
    }
   },
   "id": "41835691b05a1373"
  },
  {
   "cell_type": "code",
   "execution_count": 79,
   "outputs": [
    {
     "name": "stdout",
     "output_type": "stream",
     "text": [
      "Best RBF RMSE: 93022.55338893594\n"
     ]
    }
   ],
   "source": [
    "from sklearn.svm import SVR\n",
    "\n",
    "# Define RBF SVR model and parameter grid\n",
    "rbf_svr = SVR(kernel='rbf')\n",
    "param_grid = {'C': [0.1, 1, 10, 100], 'gamma': ['scale', 'auto', 0.01, 0.1, 1]}\n",
    "\n",
    "# Grid search for hyperparameter tuning\n",
    "rbf_grid = GridSearchCV(rbf_svr, param_grid, cv=5, scoring='neg_mean_squared_error')\n",
    "rbf_grid.fit(X_train, y_train.to_numpy())  # Use .to_numpy() instead of .ravel()\n",
    "\n",
    "# Get the best model\n",
    "best_rbf = rbf_grid.best_estimator_\n",
    "\n",
    "# Make predictions on the validation set\n",
    "y_val_pred_rbf = best_rbf.predict(X_val)\n",
    "\n",
    "# Calculate RMSE\n",
    "rmse_rbf = np.sqrt(mean_squared_error(y_val, y_val_pred_rbf))\n",
    "print(\"Best RBF RMSE:\", rmse_rbf)\n"
   ],
   "metadata": {
    "collapsed": false,
    "ExecuteTime": {
     "end_time": "2024-11-18T06:01:12.937025522Z",
     "start_time": "2024-11-18T06:00:44.547629228Z"
    }
   },
   "id": "cb6a18474f9aeb31"
  }
 ],
 "metadata": {
  "kernelspec": {
   "display_name": "Python 3",
   "language": "python",
   "name": "python3"
  },
  "language_info": {
   "codemirror_mode": {
    "name": "ipython",
    "version": 2
   },
   "file_extension": ".py",
   "mimetype": "text/x-python",
   "name": "python",
   "nbconvert_exporter": "python",
   "pygments_lexer": "ipython2",
   "version": "2.7.6"
  }
 },
 "nbformat": 4,
 "nbformat_minor": 5
}
