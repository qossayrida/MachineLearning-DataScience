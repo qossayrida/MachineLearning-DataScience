{
 "cells": [
  {
   "cell_type": "code",
   "execution_count": 3,
   "id": "initial_id",
   "metadata": {
    "collapsed": true,
    "ExecuteTime": {
     "end_time": "2024-11-16T08:40:28.722272086Z",
     "start_time": "2024-11-16T08:40:28.667422830Z"
    }
   },
   "outputs": [
    {
     "name": "stdout",
     "output_type": "stream",
     "text": [
      "<class 'pandas.core.frame.DataFrame'>\n",
      "RangeIndex: 4979 entries, 0 to 4978\n",
      "Data columns (total 9 columns):\n",
      " #   Column           Non-Null Count  Dtype  \n",
      "---  ------           --------------  -----  \n",
      " 0   car name         4979 non-null   object \n",
      " 1   engine_capacity  4979 non-null   float64\n",
      " 2   cylinder         4979 non-null   int64  \n",
      " 3   horse_power      4979 non-null   int64  \n",
      " 4   top_speed        4979 non-null   int64  \n",
      " 5   brand            4979 non-null   object \n",
      " 6   country          4979 non-null   object \n",
      " 7   num_seats        4979 non-null   int64  \n",
      " 8   Price_USD        4979 non-null   float64\n",
      "dtypes: float64(2), int64(4), object(3)\n",
      "memory usage: 350.2+ KB\n"
     ]
    },
    {
     "data": {
      "text/plain": "       engine_capacity     cylinder  horse_power    top_speed    num_seats  \\\ncount      4979.000000  4979.000000  4979.000000  4979.000000  4979.000000   \nmean          3.616951     5.165696   285.849367   222.112874     4.921068   \nstd          28.331114     1.842988   183.686725    46.665063     1.401370   \nmin           0.000000     3.000000    25.000000   120.000000     2.000000   \n25%           2.000000     4.000000   164.000000   188.000000     5.000000   \n50%           2.400000     4.000000   250.000000   220.000000     5.000000   \n75%           3.500000     6.000000   362.000000   250.000000     5.000000   \nmax        1000.000000    16.000000  5050.000000   966.000000    18.000000   \n\n          Price_USD  \ncount  4.979000e+03  \nmean   7.215546e+04  \nstd    1.072890e+05  \nmin    4.608000e+03  \n25%    2.565000e+04  \n50%    4.725000e+04  \n75%    8.343765e+04  \nmax    3.594996e+06  ",
      "text/html": "<div>\n<style scoped>\n    .dataframe tbody tr th:only-of-type {\n        vertical-align: middle;\n    }\n\n    .dataframe tbody tr th {\n        vertical-align: top;\n    }\n\n    .dataframe thead th {\n        text-align: right;\n    }\n</style>\n<table border=\"1\" class=\"dataframe\">\n  <thead>\n    <tr style=\"text-align: right;\">\n      <th></th>\n      <th>engine_capacity</th>\n      <th>cylinder</th>\n      <th>horse_power</th>\n      <th>top_speed</th>\n      <th>num_seats</th>\n      <th>Price_USD</th>\n    </tr>\n  </thead>\n  <tbody>\n    <tr>\n      <th>count</th>\n      <td>4979.000000</td>\n      <td>4979.000000</td>\n      <td>4979.000000</td>\n      <td>4979.000000</td>\n      <td>4979.000000</td>\n      <td>4.979000e+03</td>\n    </tr>\n    <tr>\n      <th>mean</th>\n      <td>3.616951</td>\n      <td>5.165696</td>\n      <td>285.849367</td>\n      <td>222.112874</td>\n      <td>4.921068</td>\n      <td>7.215546e+04</td>\n    </tr>\n    <tr>\n      <th>std</th>\n      <td>28.331114</td>\n      <td>1.842988</td>\n      <td>183.686725</td>\n      <td>46.665063</td>\n      <td>1.401370</td>\n      <td>1.072890e+05</td>\n    </tr>\n    <tr>\n      <th>min</th>\n      <td>0.000000</td>\n      <td>3.000000</td>\n      <td>25.000000</td>\n      <td>120.000000</td>\n      <td>2.000000</td>\n      <td>4.608000e+03</td>\n    </tr>\n    <tr>\n      <th>25%</th>\n      <td>2.000000</td>\n      <td>4.000000</td>\n      <td>164.000000</td>\n      <td>188.000000</td>\n      <td>5.000000</td>\n      <td>2.565000e+04</td>\n    </tr>\n    <tr>\n      <th>50%</th>\n      <td>2.400000</td>\n      <td>4.000000</td>\n      <td>250.000000</td>\n      <td>220.000000</td>\n      <td>5.000000</td>\n      <td>4.725000e+04</td>\n    </tr>\n    <tr>\n      <th>75%</th>\n      <td>3.500000</td>\n      <td>6.000000</td>\n      <td>362.000000</td>\n      <td>250.000000</td>\n      <td>5.000000</td>\n      <td>8.343765e+04</td>\n    </tr>\n    <tr>\n      <th>max</th>\n      <td>1000.000000</td>\n      <td>16.000000</td>\n      <td>5050.000000</td>\n      <td>966.000000</td>\n      <td>18.000000</td>\n      <td>3.594996e+06</td>\n    </tr>\n  </tbody>\n</table>\n</div>"
     },
     "execution_count": 3,
     "metadata": {},
     "output_type": "execute_result"
    }
   ],
   "source": [
    "import pandas as pd\n",
    "\n",
    "# Load the dataset\n",
    "df = pd.read_csv('data/processed_cars_data.csv')\n",
    "df.info()\n",
    "df.describe()"
   ]
  },
  {
   "cell_type": "code",
   "execution_count": 4,
   "outputs": [
    {
     "data": {
      "text/plain": "((2987, 6), (996, 6), (996, 6), (2987,), (996,), (996,))"
     },
     "execution_count": 4,
     "metadata": {},
     "output_type": "execute_result"
    }
   ],
   "source": [
    "from sklearn.model_selection import train_test_split\n",
    "from sklearn.preprocessing import StandardScaler\n",
    "import numpy as np\n",
    "\n",
    "# Selecting features and target variable\n",
    "X = df[['engine_capacity', 'cylinder', 'horse_power', 'top_speed', 'num_seats']]\n",
    "y = df['Price_USD']\n",
    "\n",
    "\n",
    "# Splitting the dataset into training (60%), validation (20%), and test (20%) sets\n",
    "X_temp, X_test, y_temp, y_test = train_test_split(X, y, test_size=0.2, random_state=42)\n",
    "X_train, X_val, y_train, y_val = train_test_split(X_temp, y_temp, test_size=0.25, random_state=42)  # 0.25 * 0.8 = 0.2\n",
    "\n",
    "# Initialize the StandardScaler\n",
    "scaler = StandardScaler()\n",
    "X_train_scaled = scaler.fit_transform(X_train)\n",
    "X_val_scaled = scaler.transform(X_val)\n",
    "X_test_scaled = scaler.transform(X_test)\n",
    "\n",
    "# Adding a bias term to each split\n",
    "X_train_bias = np.c_[np.ones(X_train_scaled.shape[0]), X_train_scaled]\n",
    "X_val_bias = np.c_[np.ones(X_val_scaled.shape[0]), X_val_scaled]\n",
    "X_test_bias = np.c_[np.ones(X_test_scaled.shape[0]), X_test_scaled]\n",
    "\n",
    "# Displaying the shapes of the splits to confirm\n",
    "X_train_bias.shape, X_val_bias.shape, X_test_bias.shape, y_train.shape, y_val.shape, y_test.shape\n"
   ],
   "metadata": {
    "collapsed": false,
    "ExecuteTime": {
     "end_time": "2024-11-16T08:40:28.828679358Z",
     "start_time": "2024-11-16T08:40:28.726297573Z"
    }
   },
   "id": "3a561df254a3c68b"
  }
 ],
 "metadata": {
  "kernelspec": {
   "display_name": "Python 3",
   "language": "python",
   "name": "python3"
  },
  "language_info": {
   "codemirror_mode": {
    "name": "ipython",
    "version": 2
   },
   "file_extension": ".py",
   "mimetype": "text/x-python",
   "name": "python",
   "nbconvert_exporter": "python",
   "pygments_lexer": "ipython2",
   "version": "2.7.6"
  }
 },
 "nbformat": 4,
 "nbformat_minor": 5
}
