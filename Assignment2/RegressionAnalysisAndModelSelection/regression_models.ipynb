{
 "cells": [
  {
   "cell_type": "code",
   "execution_count": 46,
   "id": "initial_id",
   "metadata": {
    "collapsed": true,
    "ExecuteTime": {
     "end_time": "2024-11-17T19:56:53.415442520Z",
     "start_time": "2024-11-17T19:56:53.370788027Z"
    }
   },
   "outputs": [
    {
     "name": "stdout",
     "output_type": "stream",
     "text": [
      "<class 'pandas.core.frame.DataFrame'>\n",
      "RangeIndex: 4979 entries, 0 to 4978\n",
      "Data columns (total 9 columns):\n",
      " #   Column           Non-Null Count  Dtype  \n",
      "---  ------           --------------  -----  \n",
      " 0   car name         4979 non-null   object \n",
      " 1   engine_capacity  4979 non-null   float64\n",
      " 2   cylinder         4979 non-null   int64  \n",
      " 3   horse_power      4979 non-null   int64  \n",
      " 4   top_speed        4979 non-null   int64  \n",
      " 5   brand            4979 non-null   object \n",
      " 6   country          4979 non-null   object \n",
      " 7   num_seats        4979 non-null   int64  \n",
      " 8   Price_USD        4979 non-null   float64\n",
      "dtypes: float64(2), int64(4), object(3)\n",
      "memory usage: 350.2+ KB\n"
     ]
    },
    {
     "data": {
      "text/plain": "       engine_capacity     cylinder  horse_power    top_speed    num_seats  \\\ncount      4979.000000  4979.000000  4979.000000  4979.000000  4979.000000   \nmean          3.616951     5.165696   285.849367   222.112874     4.921068   \nstd          28.331114     1.842988   183.686725    46.665063     1.401370   \nmin           0.000000     3.000000    25.000000   120.000000     2.000000   \n25%           2.000000     4.000000   164.000000   188.000000     5.000000   \n50%           2.400000     4.000000   250.000000   220.000000     5.000000   \n75%           3.500000     6.000000   362.000000   250.000000     5.000000   \nmax        1000.000000    16.000000  5050.000000   966.000000    18.000000   \n\n          Price_USD  \ncount  4.979000e+03  \nmean   7.215546e+04  \nstd    1.072890e+05  \nmin    4.608000e+03  \n25%    2.565000e+04  \n50%    4.725000e+04  \n75%    8.343765e+04  \nmax    3.594996e+06  ",
      "text/html": "<div>\n<style scoped>\n    .dataframe tbody tr th:only-of-type {\n        vertical-align: middle;\n    }\n\n    .dataframe tbody tr th {\n        vertical-align: top;\n    }\n\n    .dataframe thead th {\n        text-align: right;\n    }\n</style>\n<table border=\"1\" class=\"dataframe\">\n  <thead>\n    <tr style=\"text-align: right;\">\n      <th></th>\n      <th>engine_capacity</th>\n      <th>cylinder</th>\n      <th>horse_power</th>\n      <th>top_speed</th>\n      <th>num_seats</th>\n      <th>Price_USD</th>\n    </tr>\n  </thead>\n  <tbody>\n    <tr>\n      <th>count</th>\n      <td>4979.000000</td>\n      <td>4979.000000</td>\n      <td>4979.000000</td>\n      <td>4979.000000</td>\n      <td>4979.000000</td>\n      <td>4.979000e+03</td>\n    </tr>\n    <tr>\n      <th>mean</th>\n      <td>3.616951</td>\n      <td>5.165696</td>\n      <td>285.849367</td>\n      <td>222.112874</td>\n      <td>4.921068</td>\n      <td>7.215546e+04</td>\n    </tr>\n    <tr>\n      <th>std</th>\n      <td>28.331114</td>\n      <td>1.842988</td>\n      <td>183.686725</td>\n      <td>46.665063</td>\n      <td>1.401370</td>\n      <td>1.072890e+05</td>\n    </tr>\n    <tr>\n      <th>min</th>\n      <td>0.000000</td>\n      <td>3.000000</td>\n      <td>25.000000</td>\n      <td>120.000000</td>\n      <td>2.000000</td>\n      <td>4.608000e+03</td>\n    </tr>\n    <tr>\n      <th>25%</th>\n      <td>2.000000</td>\n      <td>4.000000</td>\n      <td>164.000000</td>\n      <td>188.000000</td>\n      <td>5.000000</td>\n      <td>2.565000e+04</td>\n    </tr>\n    <tr>\n      <th>50%</th>\n      <td>2.400000</td>\n      <td>4.000000</td>\n      <td>250.000000</td>\n      <td>220.000000</td>\n      <td>5.000000</td>\n      <td>4.725000e+04</td>\n    </tr>\n    <tr>\n      <th>75%</th>\n      <td>3.500000</td>\n      <td>6.000000</td>\n      <td>362.000000</td>\n      <td>250.000000</td>\n      <td>5.000000</td>\n      <td>8.343765e+04</td>\n    </tr>\n    <tr>\n      <th>max</th>\n      <td>1000.000000</td>\n      <td>16.000000</td>\n      <td>5050.000000</td>\n      <td>966.000000</td>\n      <td>18.000000</td>\n      <td>3.594996e+06</td>\n    </tr>\n  </tbody>\n</table>\n</div>"
     },
     "execution_count": 46,
     "metadata": {},
     "output_type": "execute_result"
    }
   ],
   "source": [
    "import pandas as pd\n",
    "\n",
    "# Load the dataset\n",
    "df = pd.read_csv('data/processed_cars_data.csv')\n",
    "df.info()\n",
    "df.describe()"
   ]
  },
  {
   "cell_type": "code",
   "execution_count": 47,
   "outputs": [
    {
     "name": "stdout",
     "output_type": "stream",
     "text": [
      "<class 'pandas.core.frame.DataFrame'>\n",
      "RangeIndex: 4979 entries, 0 to 4978\n",
      "Data columns (total 5 columns):\n",
      " #   Column           Non-Null Count  Dtype  \n",
      "---  ------           --------------  -----  \n",
      " 0   engine_capacity  4979 non-null   float64\n",
      " 1   cylinder         4979 non-null   int64  \n",
      " 2   horse_power      4979 non-null   int64  \n",
      " 3   top_speed        4979 non-null   int64  \n",
      " 4   num_seats        4979 non-null   int64  \n",
      "dtypes: float64(1), int64(4)\n",
      "memory usage: 194.6 KB\n"
     ]
    }
   ],
   "source": [
    "from sklearn.model_selection import train_test_split\n",
    "\n",
    "# Assuming df is your DataFrame\n",
    "X = df.drop(columns=[\"Price_USD\", \"car name\",'brand', 'country'])  # Drop 'Price_USD' (target) and 'car name' (irrelevant feature)\n",
    "y = df[\"Price_USD\"]\n",
    "\n",
    "# # One-hot encode categorical features (brand, country)\n",
    "# X = pd.get_dummies(X, columns=[], drop_first=True)\n",
    "# \n",
    "# # Convert all data to float64\n",
    "# X = X.astype(np.float64)\n",
    "\n",
    "# Splitting the dataset into training (60%), validation (20%), and test (20%) sets\n",
    "X_temp, X_test, y_temp, y_test = train_test_split(X, y, test_size=0.2, random_state=42)\n",
    "X_train, X_val, y_train, y_val = train_test_split(X_temp, y_temp, test_size=0.25, random_state=42)  # 0.25 * 0.8 = 0.2\n",
    "\n",
    "# Convert to NumPy arrays\n",
    "# X_train, X_val, y_train, y_val = X_train.to_numpy(), X_val.to_numpy(), y_train.to_numpy(), y_val.to_numpy()\n",
    "\n",
    "X.info()\n"
   ],
   "metadata": {
    "collapsed": false,
    "ExecuteTime": {
     "end_time": "2024-11-17T19:56:53.415809007Z",
     "start_time": "2024-11-17T19:56:53.412888023Z"
    }
   },
   "id": "3a561df254a3c68b"
  },
  {
   "cell_type": "code",
   "execution_count": 48,
   "outputs": [
    {
     "name": "stdout",
     "output_type": "stream",
     "text": [
      "Validation RMSE (Closed-form): 82983.76808253599\n"
     ]
    }
   ],
   "source": [
    "import numpy as np\n",
    "\n",
    "# Add a bias term to the feature matrix\n",
    "X_train_b = np.c_[np.ones((X_train.shape[0], 1)), X_train]  # Add bias term\n",
    "X_val_b = np.c_[np.ones((X_val.shape[0], 1)), X_val]\n",
    "\n",
    "# Closed-form solution\n",
    "# theta_best = (X^T . X)^-1 . X^T . y\n",
    "\n",
    "try:\n",
    "    theta_best = np.linalg.inv(X_train_b.T @ X_train_b) @ X_train_b.T @ y_train\n",
    "    # Predictions on the validation set\n",
    "    y_val_pred = X_val_b @ theta_best\n",
    "    # Evaluate the performance (e.g., using RMSE)\n",
    "    print(\"Validation RMSE (Closed-form):\", np.sqrt(np.mean((y_val - y_val_pred)**2)))\n",
    "except np.linalg.LinAlgError as e:\n",
    "    print(\"Error: Singular matrix. Unable to compute the closed-form solution.\")"
   ],
   "metadata": {
    "collapsed": false,
    "ExecuteTime": {
     "end_time": "2024-11-17T19:56:53.416047599Z",
     "start_time": "2024-11-17T19:56:53.413051309Z"
    }
   },
   "id": "6219790e81045bfa"
  },
  {
   "cell_type": "code",
   "execution_count": 49,
   "outputs": [
    {
     "name": "stdout",
     "output_type": "stream",
     "text": [
      "Best LASSO RMSE: 83021.41042819904\n",
      "Best Ridge RMSE: 83043.13777287723\n"
     ]
    }
   ],
   "source": [
    "from sklearn.linear_model import Lasso, Ridge\n",
    "from sklearn.model_selection import GridSearchCV\n",
    "from sklearn.metrics import mean_squared_error\n",
    "\n",
    "# Define hyperparameter grids\n",
    "alpha_values = {'alpha': [0.001, 0.01, 0.1, 1, 10, 100]}\n",
    "\n",
    "# LASSO Regression\n",
    "lasso = Lasso(max_iter=10000)\n",
    "lasso_grid = GridSearchCV(lasso, alpha_values, cv=5, scoring='neg_mean_squared_error')\n",
    "lasso_grid.fit(X_train, y_train)\n",
    "best_lasso = lasso_grid.best_estimator_\n",
    "\n",
    "# Ridge Regression\n",
    "ridge = Ridge()\n",
    "ridge_grid = GridSearchCV(ridge, alpha_values, cv=5, scoring='neg_mean_squared_error')\n",
    "ridge_grid.fit(X_train, y_train)\n",
    "best_ridge = ridge_grid.best_estimator_\n",
    "\n",
    "# Evaluate\n",
    "lasso_rmse = np.sqrt(mean_squared_error(y_val, best_lasso.predict(X_val)))\n",
    "ridge_rmse = np.sqrt(mean_squared_error(y_val, best_ridge.predict(X_val)))\n",
    "\n",
    "print(\"Best LASSO RMSE:\", lasso_rmse)\n",
    "print(\"Best Ridge RMSE:\", ridge_rmse)\n"
   ],
   "metadata": {
    "collapsed": false,
    "ExecuteTime": {
     "end_time": "2024-11-17T19:56:53.580394034Z",
     "start_time": "2024-11-17T19:56:53.416285865Z"
    }
   },
   "id": "c10704a95e243285"
  },
  {
   "cell_type": "code",
   "execution_count": 50,
   "outputs": [
    {
     "name": "stdout",
     "output_type": "stream",
     "text": [
      "Degree 2: RMSE = 369793.86826556915\n",
      "Degree 3: RMSE = 2817036.2836314747\n",
      "Degree 4: RMSE = 263663956.23629493\n",
      "Degree 5: RMSE = 15183008311.954758\n",
      "Degree 6: RMSE = 345008597172.33124\n",
      "Degree 7: RMSE = 5052708079739.828\n",
      "Degree 8: RMSE = 88082607577091.47\n",
      "Degree 9: RMSE = 2180551429222975.8\n",
      "Degree 10: RMSE = 1.0985579416446034e+16\n"
     ]
    }
   ],
   "source": [
    "from sklearn.preprocessing import PolynomialFeatures\n",
    "from sklearn.linear_model import LinearRegression\n",
    "\n",
    "for degree in range(2, 11):\n",
    "    poly = PolynomialFeatures(degree)\n",
    "    X_train_poly = poly.fit_transform(X_train)\n",
    "    X_val_poly = poly.transform(X_val)\n",
    "    \n",
    "    lin_reg = LinearRegression()\n",
    "    lin_reg.fit(X_train_poly, y_train)\n",
    "    \n",
    "    y_val_pred = lin_reg.predict(X_val_poly)\n",
    "    rmse_poly = np.sqrt(mean_squared_error(y_val, y_val_pred))\n",
    "    print(f\"Degree {degree}: RMSE = {rmse_poly}\")"
   ],
   "metadata": {
    "collapsed": false,
    "ExecuteTime": {
     "end_time": "2024-11-17T19:57:07.598046362Z",
     "start_time": "2024-11-17T19:56:53.580869610Z"
    }
   },
   "id": "41835691b05a1373"
  },
  {
   "cell_type": "code",
   "execution_count": 51,
   "outputs": [
    {
     "name": "stdout",
     "output_type": "stream",
     "text": [
      "Best RBF RMSE: 93022.55338893594\n"
     ]
    }
   ],
   "source": [
    "from sklearn.svm import SVR\n",
    "\n",
    "# Define RBF SVR model and parameter grid\n",
    "rbf_svr = SVR(kernel='rbf')\n",
    "param_grid = {'C': [0.1, 1, 10, 100], 'gamma': ['scale', 'auto', 0.01, 0.1, 1]}\n",
    "\n",
    "# Grid search for hyperparameter tuning\n",
    "rbf_grid = GridSearchCV(rbf_svr, param_grid, cv=5, scoring='neg_mean_squared_error')\n",
    "rbf_grid.fit(X_train, y_train.to_numpy())  # Use .to_numpy() instead of .ravel()\n",
    "\n",
    "# Get the best model\n",
    "best_rbf = rbf_grid.best_estimator_\n",
    "\n",
    "# Make predictions on the validation set\n",
    "y_val_pred_rbf = best_rbf.predict(X_val)\n",
    "\n",
    "# Calculate RMSE\n",
    "rmse_rbf = np.sqrt(mean_squared_error(y_val, y_val_pred_rbf))\n",
    "print(\"Best RBF RMSE:\", rmse_rbf)\n"
   ],
   "metadata": {
    "collapsed": false,
    "ExecuteTime": {
     "end_time": "2024-11-17T19:57:27.373380195Z",
     "start_time": "2024-11-17T19:57:07.597517387Z"
    }
   },
   "id": "cb6a18474f9aeb31"
  }
 ],
 "metadata": {
  "kernelspec": {
   "display_name": "Python 3",
   "language": "python",
   "name": "python3"
  },
  "language_info": {
   "codemirror_mode": {
    "name": "ipython",
    "version": 2
   },
   "file_extension": ".py",
   "mimetype": "text/x-python",
   "name": "python",
   "nbconvert_exporter": "python",
   "pygments_lexer": "ipython2",
   "version": "2.7.6"
  }
 },
 "nbformat": 4,
 "nbformat_minor": 5
}
